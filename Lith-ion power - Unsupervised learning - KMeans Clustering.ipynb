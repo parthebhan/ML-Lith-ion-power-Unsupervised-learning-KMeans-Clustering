{
 "cells": [
  {
   "cell_type": "markdown",
   "id": "82a5c856-51fb-4628-b66a-f5f24b83ffd6",
   "metadata": {},
   "source": [
    "# **ML- Lith-ion power - Unsupervised learning  - KMeans Clustering**"
   ]
  },
  {
   "cell_type": "markdown",
   "id": "e5818595-564f-4ecf-bd50-66f15d562f82",
   "metadata": {},
   "source": [
    "## PROBELM STATEMENT\n",
    "Lith-ion power is the largest producer of electric vechicle(e-vehicle) batteries.\n",
    "\n",
    "They provide batteries on rent to e-vechicle drivers. Drivers rent a battery typically for a day and thereafter replacing it with a charged battery from the company.\n",
    "\n",
    "Lith-ion power has a variable pricing model based on the driver's driving history. Battery life depends on factors such as over speeding, distance driven per day, etc.\n",
    "\n",
    "**`Created a cluster model where drivers were grouped together based on the driving data and group the datapoints so that drivers will be incentivized based on the cluster.`**"
   ]
  },
  {
   "cell_type": "code",
   "execution_count": 1,
   "id": "187ad116-19d3-4a7a-bf08-20ad387fb56a",
   "metadata": {},
   "outputs": [],
   "source": [
    "import pandas as pd\n",
    "import numpy as np\n",
    "import plotly.express as px\n",
    "import matplotlib.pyplot as plt\n",
    "import plotly.graph_objects as go\n",
    "\n",
    "from sklearn.cluster import KMeans\n",
    "from sklearn import metrics\n",
    "\n",
    "import warnings\n",
    "warnings.filterwarnings('ignore')"
   ]
  },
  {
   "cell_type": "code",
   "execution_count": 2,
   "id": "7df7ae02-5da1-4923-b317-db14b1031cea",
   "metadata": {},
   "outputs": [
    {
     "data": {
      "text/html": [
       "<div>\n",
       "<style scoped>\n",
       "    .dataframe tbody tr th:only-of-type {\n",
       "        vertical-align: middle;\n",
       "    }\n",
       "\n",
       "    .dataframe tbody tr th {\n",
       "        vertical-align: top;\n",
       "    }\n",
       "\n",
       "    .dataframe thead th {\n",
       "        text-align: right;\n",
       "    }\n",
       "</style>\n",
       "<table border=\"1\" class=\"dataframe\">\n",
       "  <thead>\n",
       "    <tr style=\"text-align: right;\">\n",
       "      <th></th>\n",
       "      <th>id</th>\n",
       "      <th>mean_dist_day</th>\n",
       "      <th>mean_over_speed_perc</th>\n",
       "    </tr>\n",
       "  </thead>\n",
       "  <tbody>\n",
       "    <tr>\n",
       "      <th>0</th>\n",
       "      <td>3423311935</td>\n",
       "      <td>71.24</td>\n",
       "      <td>28</td>\n",
       "    </tr>\n",
       "    <tr>\n",
       "      <th>1</th>\n",
       "      <td>3423313212</td>\n",
       "      <td>52.53</td>\n",
       "      <td>25</td>\n",
       "    </tr>\n",
       "    <tr>\n",
       "      <th>2</th>\n",
       "      <td>3423313724</td>\n",
       "      <td>64.54</td>\n",
       "      <td>27</td>\n",
       "    </tr>\n",
       "    <tr>\n",
       "      <th>3</th>\n",
       "      <td>3423311373</td>\n",
       "      <td>55.69</td>\n",
       "      <td>22</td>\n",
       "    </tr>\n",
       "    <tr>\n",
       "      <th>4</th>\n",
       "      <td>3423310999</td>\n",
       "      <td>54.58</td>\n",
       "      <td>25</td>\n",
       "    </tr>\n",
       "  </tbody>\n",
       "</table>\n",
       "</div>"
      ],
      "text/plain": [
       "           id  mean_dist_day  mean_over_speed_perc\n",
       "0  3423311935          71.24                    28\n",
       "1  3423313212          52.53                    25\n",
       "2  3423313724          64.54                    27\n",
       "3  3423311373          55.69                    22\n",
       "4  3423310999          54.58                    25"
      ]
     },
     "execution_count": 2,
     "metadata": {},
     "output_type": "execute_result"
    }
   ],
   "source": [
    "df = pd.read_csv('driver-data.csv')\n",
    "df.head()"
   ]
  },
  {
   "cell_type": "code",
   "execution_count": 3,
   "id": "c277303c-a92a-4cbe-96ab-79a2529fcb78",
   "metadata": {},
   "outputs": [
    {
     "name": "stdout",
     "output_type": "stream",
     "text": [
      "<class 'pandas.core.frame.DataFrame'>\n",
      "RangeIndex: 4000 entries, 0 to 3999\n",
      "Data columns (total 3 columns):\n",
      " #   Column                Non-Null Count  Dtype  \n",
      "---  ------                --------------  -----  \n",
      " 0   id                    4000 non-null   int64  \n",
      " 1   mean_dist_day         4000 non-null   float64\n",
      " 2   mean_over_speed_perc  4000 non-null   int64  \n",
      "dtypes: float64(1), int64(2)\n",
      "memory usage: 93.9 KB\n"
     ]
    }
   ],
   "source": [
    "df.info()"
   ]
  },
  {
   "cell_type": "code",
   "execution_count": null,
   "id": "82116ea1-dfef-4c5a-a488-03acd8b74380",
   "metadata": {},
   "outputs": [],
   "source": [
    "df_fig = px.scatter(df, \n",
    "                 x='mean_dist_day', \n",
    "                 y='mean_over_speed_perc', \n",
    "                 title='Scatter Plot fr mean_dist_day Vs mean_over_speed_percentage',\n",
    "                 height=800,            \n",
    "                 template=\"plotly_dark\"\n",
    "                )\n",
    "df_fig.show()"
   ]
  },
  {
   "cell_type": "code",
   "execution_count": null,
   "id": "e67b8bc7-d369-47c7-827b-4c9164b6f898",
   "metadata": {},
   "outputs": [],
   "source": [
    "df = df.drop(columns='id',axis=1)"
   ]
  },
  {
   "cell_type": "code",
   "execution_count": null,
   "id": "5198bef9-5c78-4011-b061-db3c483b84bf",
   "metadata": {},
   "outputs": [],
   "source": [
    "df1 = df.copy()"
   ]
  },
  {
   "cell_type": "code",
   "execution_count": null,
   "id": "14967ee0-7384-4e4a-a0c8-3208089692ee",
   "metadata": {},
   "outputs": [],
   "source": [
    "kmeans = KMeans(n_clusters=4, random_state=42)\n",
    "kmeans.fit(df1)"
   ]
  },
  {
   "cell_type": "code",
   "execution_count": null,
   "id": "cee29253-4f7e-46bf-923b-af0f290dd482",
   "metadata": {},
   "outputs": [],
   "source": [
    "unique, counts= np.unique(kmeans.labels_, return_counts=True)"
   ]
  },
  {
   "cell_type": "code",
   "execution_count": null,
   "id": "1bc0339b-ada6-482c-9ed1-b71cf13ab381",
   "metadata": {},
   "outputs": [],
   "source": [
    "dict_data = dict(zip(unique, counts))\n",
    "dict_data"
   ]
  },
  {
   "cell_type": "markdown",
   "id": "c62e5dec-79be-47e8-b2f0-56702062fc36",
   "metadata": {},
   "source": [
    "## Metrics"
   ]
  },
  {
   "cell_type": "code",
   "execution_count": null,
   "id": "ad4b557a-fe37-498c-a7d4-20beef6a2138",
   "metadata": {},
   "outputs": [],
   "source": [
    "cluster_centers = kmeans.cluster_centers_\n",
    "cluster_centers"
   ]
  },
  {
   "cell_type": "code",
   "execution_count": null,
   "id": "755d54f9-5dbc-4c6f-840c-e0f69f32ac2d",
   "metadata": {},
   "outputs": [],
   "source": [
    "kmeans.labels_"
   ]
  },
  {
   "cell_type": "code",
   "execution_count": null,
   "id": "e6a7ffb8-14a9-49b0-993f-81f5837f5671",
   "metadata": {},
   "outputs": [],
   "source": [
    "# Get the unique cluster labels assigned by KMeans\n",
    "unique_labels = np.unique(kmeans.labels_)\n",
    "\n",
    "print(\"Unique Cluster Labels:\", unique_labels)"
   ]
  },
  {
   "cell_type": "code",
   "execution_count": null,
   "id": "6bcd9e10-69e2-40d2-8bbe-8ee84c823186",
   "metadata": {},
   "outputs": [],
   "source": [
    "# Inertia\n",
    "inertia = kmeans.inertia_\n",
    "print(\"Inertia:\", inertia)\n",
    "\n",
    "# Silhouette Score\n",
    "silhouette_score = metrics.silhouette_score(df, kmeans.labels_)\n",
    "print(\"\\nSilhouette Score:\", silhouette_score)\n",
    "\n",
    "# Davies-Bouldin Index\n",
    "davies_bouldin_index = metrics.davies_bouldin_score(df, kmeans.labels_)\n",
    "print(\"\\nDavies-Bouldin Index:\", davies_bouldin_index)\n",
    "\n",
    "# Calinski-Harabasz Index\n",
    "calinski_harabasz_index = metrics.calinski_harabasz_score(df, kmeans.labels_)\n",
    "print(\"\\nCalinski-Harabasz Index:\", calinski_harabasz_index)\n"
   ]
  },
  {
   "cell_type": "code",
   "execution_count": null,
   "id": "cd33602c-12b1-4d19-a9e6-5eddeda56a60",
   "metadata": {},
   "outputs": [],
   "source": [
    "df1['cluster'] = kmeans.labels_"
   ]
  },
  {
   "cell_type": "code",
   "execution_count": null,
   "id": "5744311b-4189-4467-b6b4-aac790a57e6b",
   "metadata": {},
   "outputs": [],
   "source": [
    "df1.sample(10)"
   ]
  },
  {
   "cell_type": "code",
   "execution_count": null,
   "id": "ec372c21-4492-4303-8f1b-70a8239c125f",
   "metadata": {},
   "outputs": [],
   "source": [
    "fig = px.scatter(df1, \n",
    "                 x='mean_dist_day', \n",
    "                 y='mean_over_speed_perc', \n",
    "                 color='cluster', \n",
    "                 title='KMeans Clustering',\n",
    "                 height=800,            \n",
    "                 template=\"plotly_dark\"\n",
    "                )\n",
    "\n",
    "# Create a scatter trace for the cluster centers\n",
    "cluster_trace = go.Scatter(x=cluster_centers[:, 0],\n",
    "                           y=cluster_centers[:, 1],\n",
    "                           mode='markers',\n",
    "                           marker=dict(color='red', size=10, symbol='cross'),\n",
    "                           name='Cluster Centers'\n",
    "                          )\n",
    "\n",
    "# Add the cluster centers trace to the Plotly figure\n",
    "fig.add_trace(cluster_trace)\n",
    "\n",
    "fig.show()"
   ]
  },
  {
   "cell_type": "code",
   "execution_count": null,
   "id": "b38cc517-3250-460f-b66c-4e2c0ca00670",
   "metadata": {},
   "outputs": [],
   "source": [
    "fig_3d = px.scatter_3d(df1, \n",
    "                    x='mean_dist_day', \n",
    "                    y='mean_over_speed_perc', \n",
    "                    z='cluster', \n",
    "                    color='cluster',\n",
    "                    symbol='cluster',\n",
    "                    title='3D Scatter Plot with Clusters',\n",
    "                    height=900,\n",
    "                    width = 1200\n",
    "                   )\n",
    "\n",
    "fig_3d.show()"
   ]
  },
  {
   "cell_type": "markdown",
   "id": "d69726cf-4441-4731-80cb-9ed222191546",
   "metadata": {},
   "source": [
    "## Prediction"
   ]
  },
  {
   "cell_type": "code",
   "execution_count": null,
   "id": "c34bbbcb-2bea-4ab8-8612-095a0b5b8f42",
   "metadata": {},
   "outputs": [],
   "source": [
    "test = df1.sample(10).reset_index(drop = True)\n",
    "test_df = test.copy()\n",
    "test1 = test.drop(columns='cluster',axis=1)\n",
    "test1"
   ]
  },
  {
   "cell_type": "code",
   "execution_count": null,
   "id": "8199994c-6872-45d4-8623-bab7b834f497",
   "metadata": {},
   "outputs": [],
   "source": [
    "pred = kmeans.predict(test1)\n",
    "pred_df = pd.DataFrame({'prediction':pred})\n",
    "pred_df "
   ]
  },
  {
   "cell_type": "code",
   "execution_count": null,
   "id": "b4a098d3-ae63-4e01-ba6d-9bec2e41ff4c",
   "metadata": {},
   "outputs": [],
   "source": [
    "model_result = pd.merge(test_df,pred_df,right_index=True,left_index=True)\n",
    "model_result "
   ]
  }
 ],
 "metadata": {
  "kernelspec": {
   "display_name": "Python 3 (ipykernel)",
   "language": "python",
   "name": "python3"
  },
  "language_info": {
   "codemirror_mode": {
    "name": "ipython",
    "version": 3
   },
   "file_extension": ".py",
   "mimetype": "text/x-python",
   "name": "python",
   "nbconvert_exporter": "python",
   "pygments_lexer": "ipython3",
   "version": "3.11.5"
  }
 },
 "nbformat": 4,
 "nbformat_minor": 5
}
